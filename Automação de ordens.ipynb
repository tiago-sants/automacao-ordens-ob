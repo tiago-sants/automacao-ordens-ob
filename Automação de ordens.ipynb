{
 "cells": [
  {
   "cell_type": "code",
   "execution_count": 21,
   "id": "c32e1321",
   "metadata": {
    "scrolled": false
   },
   "outputs": [
    {
     "ename": "KeyboardInterrupt",
     "evalue": "",
     "output_type": "error",
     "traceback": [
      "\u001b[1;31m---------------------------------------------------------------------------\u001b[0m",
      "\u001b[1;31mKeyboardInterrupt\u001b[0m                         Traceback (most recent call last)",
      "\u001b[1;32mC:\\Users\\TRADER~1\\AppData\\Local\\Temp/ipykernel_15432/2341057030.py\u001b[0m in \u001b[0;36m<module>\u001b[1;34m\u001b[0m\n\u001b[0;32m      8\u001b[0m \u001b[0mpyautogui\u001b[0m\u001b[1;33m.\u001b[0m\u001b[0mwrite\u001b[0m\u001b[1;33m(\u001b[0m\u001b[1;34m\"binomo\"\u001b[0m\u001b[1;33m)\u001b[0m\u001b[1;33m\u001b[0m\u001b[1;33m\u001b[0m\u001b[0m\n\u001b[0;32m      9\u001b[0m \u001b[0mpyautogui\u001b[0m\u001b[1;33m.\u001b[0m\u001b[0mpress\u001b[0m\u001b[1;33m(\u001b[0m\u001b[1;34m\"enter\"\u001b[0m\u001b[1;33m)\u001b[0m\u001b[1;33m\u001b[0m\u001b[1;33m\u001b[0m\u001b[0m\n\u001b[1;32m---> 10\u001b[1;33m \u001b[0mtime\u001b[0m\u001b[1;33m.\u001b[0m\u001b[0msleep\u001b[0m\u001b[1;33m(\u001b[0m\u001b[1;36m5\u001b[0m\u001b[1;33m)\u001b[0m\u001b[1;33m\u001b[0m\u001b[1;33m\u001b[0m\u001b[0m\n\u001b[0m\u001b[0;32m     11\u001b[0m \u001b[1;33m\u001b[0m\u001b[0m\n\u001b[0;32m     12\u001b[0m \u001b[1;31m# Passo 2 - Definir preço da ordem\u001b[0m\u001b[1;33m\u001b[0m\u001b[1;33m\u001b[0m\u001b[0m\n",
      "\u001b[1;31mKeyboardInterrupt\u001b[0m: "
     ]
    }
   ],
   "source": [
    "import pyautogui\n",
    "import pyperclip\n",
    "import time\n",
    "# Programa de automatização de ordens na plataforma de investimentos Binomo\n",
    "# Passo 1 - Abrir a plataforma de investimento. Obs.: O programa já deve está instalado e logado no pc\n",
    "pyautogui.PAUSE = 1\n",
    "pyautogui.press(\"win\")\n",
    "pyautogui.write(\"binomo\")\n",
    "pyautogui.press(\"enter\")\n",
    "time.sleep(5)\n",
    "\n",
    "# Passo 2 - Definir preço da ordem\n",
    "pyautogui.click(x=1813, y=180)\n",
    "pyautogui.hotkey(\"ctrl\", \"a\")\n",
    "pyautogui.write(\"50\") # definir aqui o valor da ordem\n",
    "\n",
    "# Passo 3 - Executar ordem de compra ou venda\n",
    "# pyautogui.click(x=1827, y=534)  Ordem de compra\n",
    "# pyautogui.click(x=1793, y=605)  Ordem de venda\n",
    "pyautogui.click(x=1827, y=534)\n",
    "time.sleep(90) # Defina aqui o tempo de intervalo entre uma ordem e outra\n",
    "pyautogui.click(x=1793, y=605)\n",
    "time.sleep(90)\n",
    "pyautogui.click(x=1793, y=605)\n"
   ]
  },
  {
   "cell_type": "code",
   "execution_count": 18,
   "id": "b77e7773",
   "metadata": {},
   "outputs": [
    {
     "data": {
      "text/plain": [
       "Point(x=1793, y=605)"
      ]
     },
     "execution_count": 18,
     "metadata": {},
     "output_type": "execute_result"
    }
   ],
   "source": [
    "import time\n",
    "time.sleep(5)\n",
    "pyautogui.position()"
   ]
  }
 ],
 "metadata": {
  "kernelspec": {
   "display_name": "Python 3 (ipykernel)",
   "language": "python",
   "name": "python3"
  },
  "language_info": {
   "codemirror_mode": {
    "name": "ipython",
    "version": 3
   },
   "file_extension": ".py",
   "mimetype": "text/x-python",
   "name": "python",
   "nbconvert_exporter": "python",
   "pygments_lexer": "ipython3",
   "version": "3.9.7"
  }
 },
 "nbformat": 4,
 "nbformat_minor": 5
}
